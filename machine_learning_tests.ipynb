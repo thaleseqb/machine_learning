{
 "cells": [
  {
   "cell_type": "code",
   "execution_count": 1,
   "metadata": {},
   "outputs": [],
   "source": [
    "import pandas as pd\n",
    "import numpy as np"
   ]
  },
  {
   "cell_type": "code",
   "execution_count": 2,
   "metadata": {},
   "outputs": [],
   "source": [
    "data = pd.read_csv('Customer-Churn.csv')\n",
    "data\n",
    "\n",
    "dic = {\n",
    "        ord('a'): np.array([ord('à'),ord('á'),ord('ã'),ord('â')]),\n",
    "        ord('o'): np.array([ord('ó')]),\n",
    "        ord('i'): np.array([ord('í')]),\n",
    "        ord('e'): np.array([ord('é')]),\n",
    "        ord('u'): np.array([ord('ú')])\n",
    "    }"
   ]
  },
  {
   "cell_type": "code",
   "execution_count": 3,
   "metadata": {},
   "outputs": [],
   "source": []
  },
  {
   "cell_type": "code",
   "execution_count": null,
   "metadata": {},
   "outputs": [],
   "source": [
    "map = {'yes':1,'Sim':1,'Nao':0,'no':0}\n",
    "column_list = list(data.columns)\n",
    "\n",
    "for index, iten in enumerate(column_list):\n",
    "    column = data[iten]\n",
    "    if 'Sim' in np.array(column):\n",
    "        data[iten] = data[iten].map(map)\n",
    "data"
   ]
  },
  {
   "cell_type": "code",
   "execution_count": null,
   "metadata": {},
   "outputs": [],
   "source": []
  },
  {
   "cell_type": "code",
   "execution_count": null,
   "metadata": {},
   "outputs": [],
   "source": [
    "strin = 'fdsKfsdfAãsdmvskI'\n",
    "\n",
    "dic = {\n",
    "    ord('a'):np.array([ord('à'),ord('á'),ord('ã'),ord('â')]),\n",
    "    ord('o'): np.array([ord('ó')]),\n",
    "    ord('i'): np.array([ord('í')]),\n",
    "    ord('e'): np.array([ord('é')]),\n",
    "    ord('u'): np.array([ord('ú')]),\n",
    "}\n",
    "\n",
    "def replace_tilda(strin, dic):\n",
    "    strin = strin.lower()\n",
    "    alfanumeric_string = [ord(alpha_num) for alpha_num in strin]\n",
    "    alfanumeric_string = np.array(alfanumeric_string)\n",
    "\n",
    "    for index, iten in enumerate(dic):\n",
    "        bool_array = np.isin(alfanumeric_string,dic[iten])\n",
    "        if True in bool_array:\n",
    "            replace_coord = np.where(bool_array==True)[0]\n",
    "            alfanumeric_string[replace_coord] = iten\n",
    "\n",
    "    transformed_chr = [chr(number) for number in alfanumeric_string]\n",
    "    string = ''.join(transformed_chr)\n",
    "\n",
    "    return string\n",
    "\n",
    "replace_tilda(strin, dic)"
   ]
  },
  {
   "cell_type": "code",
   "execution_count": 3,
   "metadata": {},
   "outputs": [],
   "source": [
    "from gen_data_analyser import MLDataAnalysis as mldata\n",
    "import numpy as np\n",
    "uri= 'Customer-Churn.csv'\n",
    "obj = mldata(uri=uri, version='portuguese')\n"
   ]
  },
  {
   "cell_type": "code",
   "execution_count": 9,
   "metadata": {},
   "outputs": [
    {
     "data": {
      "text/plain": [
       "['nao', 'nao', 'nao', 'nao', 'sim', 'sim', 'sim', 'nao', 'sim']"
      ]
     },
     "execution_count": 9,
     "metadata": {},
     "output_type": "execute_result"
    }
   ],
   "source": [
    "var = np.array(['Não','Não','não','não', 'Sim', 'sim','sim','não','sim']).tolist()\n",
    "\n",
    "sec = obj.replace_tilda(' '.join(var),dic).split()\n",
    "\n",
    "# ' '.join(sec).lower().split()\n",
    "\n",
    "sec"
   ]
  },
  {
   "cell_type": "code",
   "execution_count": null,
   "metadata": {},
   "outputs": [],
   "source": []
  }
 ],
 "metadata": {
  "kernelspec": {
   "display_name": "sirius",
   "language": "python",
   "name": "python3"
  },
  "language_info": {
   "codemirror_mode": {
    "name": "ipython",
    "version": 3
   },
   "file_extension": ".py",
   "mimetype": "text/x-python",
   "name": "python",
   "nbconvert_exporter": "python",
   "pygments_lexer": "ipython3",
   "version": "3.9.2"
  }
 },
 "nbformat": 4,
 "nbformat_minor": 2
}
